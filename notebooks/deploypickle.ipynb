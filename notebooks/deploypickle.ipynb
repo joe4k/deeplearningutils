{
    "nbformat_minor": 1, 
    "cells": [
        {
            "execution_count": null, 
            "cell_type": "code", 
            "metadata": {}, 
            "outputs": [], 
            "source": "# replace with your credentials\ncos_credentials = {\n  \"apikey\": \"**************\",\n  \"cos_hmac_keys\": {\n    \"access_key_id\": \"**************\",\n    \"secret_access_key\": \"**************\"\n  },\n  \"endpoints\": \"https://cos-service.bluemix.net/endpoints\",\n  \"iam_apikey_description\": \"**************\",\n  \"iam_apikey_name\": \"**************\",\n  \"iam_role_crn\": \"**************\",\n  \"iam_serviceid_crn\": \"**************\",\n  \"resource_instance_id\": \"**************\"\n}\nservice_endpoint = 'https://s3-api.us-geo.objectstorage.softlayer.net'"
        }, 
        {
            "execution_count": null, 
            "cell_type": "code", 
            "metadata": {}, 
            "outputs": [], 
            "source": "# The code was removed by Watson Studio for sharing."
        }, 
        {
            "execution_count": null, 
            "cell_type": "code", 
            "metadata": {}, 
            "outputs": [], 
            "source": "import random\nimport string\nimport os\nimport urllib\nimport pickle\n\n# Return all buckets in your COS instance\ndef get_all_buckets(cos_client):\n    response = cos_client.list_buckets()\n    allbuckets = []\n    for bucket in response['Buckets']:\n        allbuckets.append(bucket['Name'])\n    return allbuckets\n\n# Return all the objects in a COS bucket\ndef get_objects_in_bucket(cos_client,bucket_name):\n    return cos_client.list_objects(Bucket=bucket_name)\n# Upload objects to COS bucket\ndef upload_file_to_bucket(cos_client,file,bucket):\n    file_name = os.path.basename(file)\n    print(\"Uploading %s to bucket: %s\" % (file_name,bucket))\n    cos_client.upload_file(file, bucket, file_name)\n    \n# Download objects from COS bucket\ndef download_file_from_bucket(cos_client, bucket, file_to_download, save_path, is_redownload=False):\n    if not os.path.exists(save_path) or is_redownload:\n        with open(save_path, 'wb') as file:\n            print(\"Downloading %s\" % file_to_download)  # \"\\r\" allows us to overwrite the same line\n            try:\n                cos_client.download_fileobj(bucket, file_to_download, file)\n            except:\n                e = sys.exc_info()[0]\n                print(e.__dict__)\n                if e.response != None:\n                    print(\"Detailed error: \", e.response)\n                print('An error occured downloading %s from %s' % (file_to_download, bucket))\n                os.remove(local_file)\n            finally:\n                file.close()"
        }, 
        {
            "execution_count": null, 
            "cell_type": "code", 
            "metadata": {}, 
            "outputs": [], 
            "source": "# Load Python package to simplify working with COS\nimport boto3"
        }, 
        {
            "execution_count": null, 
            "cell_type": "code", 
            "metadata": {}, 
            "outputs": [], 
            "source": "# Define a client for your COS instance based on the credentials\ncos_client = boto3.client('s3', \n                          endpoint_url = service_endpoint, \n                          aws_access_key_id=cos_credentials[\"cos_hmac_keys\"][\"access_key_id\"], \n                          aws_secret_access_key=cos_credentials[\"cos_hmac_keys\"][\"secret_access_key\"])"
        }, 
        {
            "execution_count": null, 
            "cell_type": "code", 
            "metadata": {}, 
            "outputs": [], 
            "source": "bucket = \"testbucket-jkpickle\"\nfilename = \"finalized_model.sav\"\ndirectory = os.getcwd()\nfname = directory + '/' + filename\ndownload_file_from_bucket(cos_client,bucket,filename,fname)"
        }, 
        {
            "execution_count": null, 
            "cell_type": "code", 
            "metadata": {}, 
            "outputs": [], 
            "source": "os.listdir(directory)"
        }, 
        {
            "source": "## WML part", 
            "cell_type": "markdown", 
            "metadata": {}
        }, 
        {
            "execution_count": null, 
            "cell_type": "code", 
            "metadata": {}, 
            "outputs": [], 
            "source": "from watson_machine_learning_client import WatsonMachineLearningAPIClient"
        }, 
        {
            "execution_count": null, 
            "cell_type": "code", 
            "metadata": {}, 
            "outputs": [], 
            "source": "# The code was removed by Watson Studio for sharing."
        }, 
        {
            "execution_count": null, 
            "cell_type": "code", 
            "metadata": {}, 
            "outputs": [], 
            "source": "# Add WML credentials\nwml_credentials={\n  \"url\": \"https://ibm-watson-ml.mybluemix.net\",\n  \"access_key\": \"***********\",\n  \"username\": \"*************\",\n  \"password\": \"*************\",\n  \"instance_id\": \"***************\"\n}"
        }, 
        {
            "execution_count": null, 
            "cell_type": "code", 
            "metadata": {}, 
            "outputs": [], 
            "source": "client = WatsonMachineLearningAPIClient(wml_credentials)"
        }, 
        {
            "execution_count": null, 
            "cell_type": "code", 
            "metadata": {}, 
            "outputs": [], 
            "source": "runtimes_meta = {\n    client.runtimes.ConfigurationMetaNames.NAME: \"sample\", \n    client.runtimes.ConfigurationMetaNames.DESCRIPTION: \"sample classifier\", \n    client.runtimes.ConfigurationMetaNames.PLATFORM: { \"name\": \"python\", \"version\": \"3.5\" }\n}"
        }, 
        {
            "execution_count": null, 
            "cell_type": "code", 
            "metadata": {}, 
            "outputs": [], 
            "source": "runtime_details = client.runtimes.store(runtimes_meta)\nruntime_details"
        }, 
        {
            "execution_count": null, 
            "cell_type": "code", 
            "metadata": {}, 
            "outputs": [], 
            "source": "runtime_url = client.runtimes.get_url(runtime_details)\nruntime_uid = client.runtimes.get_uid(runtime_details)\nprint(\"Runtimes URL: \" + runtime_url)\nprint(\"Runtimes UID: \" + runtime_uid)"
        }, 
        {
            "execution_count": null, 
            "cell_type": "code", 
            "metadata": {}, 
            "outputs": [], 
            "source": "model_props = {client.repository.ModelMetaNames.NAME: \"sample1\",\n               client.repository.ModelMetaNames.RUNTIME_UID: runtime_uid\n              }"
        }, 
        {
            "execution_count": null, 
            "cell_type": "code", 
            "metadata": {}, 
            "outputs": [], 
            "source": "loaded_model = pickle.load(open(filename, 'rb'))"
        }, 
        {
            "execution_count": null, 
            "cell_type": "code", 
            "metadata": {}, 
            "outputs": [], 
            "source": "published_model = client.repository.store_model(model=loaded_model, meta_props=model_props)"
        }, 
        {
            "execution_count": null, 
            "cell_type": "code", 
            "metadata": {}, 
            "outputs": [], 
            "source": "import json\npublished_model_uid = client.repository.get_model_uid(published_model)\nmodel_details = client.repository.get_details(published_model_uid)\nprint(json.dumps(model_details, indent=2))"
        }, 
        {
            "execution_count": null, 
            "cell_type": "code", 
            "metadata": {}, 
            "outputs": [], 
            "source": "created_deployment = client.deployments.create(published_model_uid, name=\"sample\")"
        }, 
        {
            "execution_count": null, 
            "cell_type": "code", 
            "metadata": {}, 
            "outputs": [], 
            "source": "scoring_endpoint = client.deployments.get_scoring_url(created_deployment)\nprint(scoring_endpoint)"
        }, 
        {
            "execution_count": null, 
            "cell_type": "code", 
            "metadata": {}, 
            "outputs": [], 
            "source": "testExample1 = [  1.0,    90.0 ,   62.0,    12.0,    43.0,    27.2,    0.58,  24.0  ]\ntestExample2 = [  1.0,    60.0 ,   22.0,    12.0,    93.0,    47.2,    0.58,  24.0  ]"
        }, 
        {
            "execution_count": null, 
            "cell_type": "code", 
            "metadata": {}, 
            "outputs": [], 
            "source": "import urllib3, requests, json\n\nheaders = urllib3.util.make_headers(basic_auth='{username}:{password}'.format(username=wml_credentials['username'], password=wml_credentials['password']))\nurl = '{}/v3/identity/token'.format(wml_credentials['url'])\nresponse = requests.get(url, headers=headers)\nmltoken = json.loads(response.text).get('token')\n\nheader = {'Content-Type': 'application/json', 'Authorization': 'Bearer ' + mltoken}"
        }, 
        {
            "execution_count": null, 
            "cell_type": "code", 
            "metadata": {}, 
            "outputs": [], 
            "source": "# NOTE: manually define and pass the array(s) of values to be scored in the next line\n#payload_scoring = {\"fields\": [\"\",\"\",\"\",\"\",\"\",\"\",\"\",\"\"], \"values\": [[  1.0,    90.0 ,   62.0 ,  12.0 ,   43.0,    27.2,    0.58,  24.0  ], [  1.0, 90.0, 62.0, 12.0, 43.0, 27.2, 0.78, 24.0 ]]}\npayload_scoring = {\"values\" : [testExample1,testExample2]}\n\nresponse_scoring = requests.post(scoring_endpoint, json=payload_scoring, headers=header)\nprint(\"Scoring response\")\nprint(json.loads(response_scoring.text))"
        }, 
        {
            "execution_count": null, 
            "cell_type": "code", 
            "metadata": {}, 
            "outputs": [], 
            "source": ""
        }
    ], 
    "metadata": {
        "kernelspec": {
            "display_name": "Python 3.5", 
            "name": "python3", 
            "language": "python"
        }, 
        "language_info": {
            "mimetype": "text/x-python", 
            "nbconvert_exporter": "python", 
            "version": "3.5.5", 
            "name": "python", 
            "file_extension": ".py", 
            "pygments_lexer": "ipython3", 
            "codemirror_mode": {
                "version": 3, 
                "name": "ipython"
            }
        }
    }, 
    "nbformat": 4
}